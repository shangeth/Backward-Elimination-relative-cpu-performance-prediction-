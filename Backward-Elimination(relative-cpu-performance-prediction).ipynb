{
 "cells": [
  {
   "cell_type": "code",
   "execution_count": 87,
   "metadata": {},
   "outputs": [],
   "source": [
    "import pandas as pd\n",
    "import numpy as np\n",
    "import matplotlib.pyplot as plt\n",
    "from sklearn.utils import shuffle\n",
    "\n",
    "\n",
    "df = pd.read_csv('data.csv')\n",
    "# print(\"data=\\n\",df)\n",
    "\n",
    "df = shuffle(df).reset_index(drop=True)\n",
    "# print(\"Shuffled data =\\n\",df)\n",
    "df = df.drop(df.columns[[0, 1]], axis=1)\n",
    "# print(df)\n",
    "\n",
    "\n",
    "X = df.iloc[:,:-1].values # make X data into matrix/array\n",
    "# print(\"X=\\n\",X)\n",
    "\n",
    "y = df.iloc[:,-1].values # make y data into matrix/array\n",
    "# print(\"y=\\n\",y)\n",
    "\n",
    "\n",
    "\n",
    "from sklearn.cross_validation import train_test_split\n",
    "X_train,X_test,y_train,y_test = train_test_split(X, y, test_size=0.2, random_state=0)\n",
    "# print(\"X Training = \\n\",X_train)\n",
    "# print(\"X Test = \\n\",X_test)\n",
    "# print(\"y Training = \\n\",y_train)\n",
    "# print(\"y Test = \\n\",y_test)\n"
   ]
  },
  {
   "cell_type": "markdown",
   "metadata": {},
   "source": [
    "## Backward Elimination"
   ]
  },
  {
   "cell_type": "code",
   "execution_count": 88,
   "metadata": {},
   "outputs": [
    {
     "data": {
      "text/html": [
       "<table class=\"simpletable\">\n",
       "<caption>OLS Regression Results</caption>\n",
       "<tr>\n",
       "  <th>Dep. Variable:</th>            <td>y</td>        <th>  R-squared:         </th> <td>   0.912</td> \n",
       "</tr>\n",
       "<tr>\n",
       "  <th>Model:</th>                   <td>OLS</td>       <th>  Adj. R-squared:    </th> <td>   0.909</td> \n",
       "</tr>\n",
       "<tr>\n",
       "  <th>Method:</th>             <td>Least Squares</td>  <th>  F-statistic:       </th> <td>   346.7</td> \n",
       "</tr>\n",
       "<tr>\n",
       "  <th>Date:</th>             <td>Mon, 06 Aug 2018</td> <th>  Prob (F-statistic):</th> <td>4.14e-103</td>\n",
       "</tr>\n",
       "<tr>\n",
       "  <th>Time:</th>                 <td>14:33:00</td>     <th>  Log-Likelihood:    </th> <td> -1091.0</td> \n",
       "</tr>\n",
       "<tr>\n",
       "  <th>No. Observations:</th>      <td>   208</td>      <th>  AIC:               </th> <td>   2196.</td> \n",
       "</tr>\n",
       "<tr>\n",
       "  <th>Df Residuals:</th>          <td>   201</td>      <th>  BIC:               </th> <td>   2219.</td> \n",
       "</tr>\n",
       "<tr>\n",
       "  <th>Df Model:</th>              <td>     6</td>      <th>                     </th>     <td> </td>    \n",
       "</tr>\n",
       "<tr>\n",
       "  <th>Covariance Type:</th>      <td>nonrobust</td>    <th>                     </th>     <td> </td>    \n",
       "</tr>\n",
       "</table>\n",
       "<table class=\"simpletable\">\n",
       "<tr>\n",
       "    <td></td>       <th>coef</th>     <th>std err</th>      <th>t</th>      <th>P>|t|</th>  <th>[0.025</th>    <th>0.975]</th>  \n",
       "</tr>\n",
       "<tr>\n",
       "  <th>const</th> <td>  -66.6266</td> <td>    6.262</td> <td>  -10.640</td> <td> 0.000</td> <td>  -78.974</td> <td>  -54.280</td>\n",
       "</tr>\n",
       "<tr>\n",
       "  <th>x1</th>    <td>    0.0669</td> <td>    0.014</td> <td>    4.901</td> <td> 0.000</td> <td>    0.040</td> <td>    0.094</td>\n",
       "</tr>\n",
       "<tr>\n",
       "  <th>x2</th>    <td>    0.0142</td> <td>    0.001</td> <td>    9.936</td> <td> 0.000</td> <td>    0.011</td> <td>    0.017</td>\n",
       "</tr>\n",
       "<tr>\n",
       "  <th>x3</th>    <td>    0.0064</td> <td>    0.001</td> <td>   12.495</td> <td> 0.000</td> <td>    0.005</td> <td>    0.007</td>\n",
       "</tr>\n",
       "<tr>\n",
       "  <th>x4</th>    <td>    0.5846</td> <td>    0.122</td> <td>    4.807</td> <td> 0.000</td> <td>    0.345</td> <td>    0.824</td>\n",
       "</tr>\n",
       "<tr>\n",
       "  <th>x5</th>    <td>   -0.2960</td> <td>    0.670</td> <td>   -0.442</td> <td> 0.659</td> <td>   -1.617</td> <td>    1.025</td>\n",
       "</tr>\n",
       "<tr>\n",
       "  <th>x6</th>    <td>    1.2759</td> <td>    0.177</td> <td>    7.202</td> <td> 0.000</td> <td>    0.927</td> <td>    1.625</td>\n",
       "</tr>\n",
       "</table>\n",
       "<table class=\"simpletable\">\n",
       "<tr>\n",
       "  <th>Omnibus:</th>       <td>108.020</td> <th>  Durbin-Watson:     </th> <td>   2.069</td> \n",
       "</tr>\n",
       "<tr>\n",
       "  <th>Prob(Omnibus):</th> <td> 0.000</td>  <th>  Jarque-Bera (JB):  </th> <td>1039.748</td> \n",
       "</tr>\n",
       "<tr>\n",
       "  <th>Skew:</th>          <td> 1.747</td>  <th>  Prob(JB):          </th> <td>1.67e-226</td>\n",
       "</tr>\n",
       "<tr>\n",
       "  <th>Kurtosis:</th>      <td>13.381</td>  <th>  Cond. No.          </th> <td>3.32e+04</td> \n",
       "</tr>\n",
       "</table><br/><br/>Warnings:<br/>[1] Standard Errors assume that the covariance matrix of the errors is correctly specified.<br/>[2] The condition number is large, 3.32e+04. This might indicate that there are<br/>strong multicollinearity or other numerical problems."
      ],
      "text/plain": [
       "<class 'statsmodels.iolib.summary.Summary'>\n",
       "\"\"\"\n",
       "                            OLS Regression Results                            \n",
       "==============================================================================\n",
       "Dep. Variable:                      y   R-squared:                       0.912\n",
       "Model:                            OLS   Adj. R-squared:                  0.909\n",
       "Method:                 Least Squares   F-statistic:                     346.7\n",
       "Date:                Mon, 06 Aug 2018   Prob (F-statistic):          4.14e-103\n",
       "Time:                        14:33:00   Log-Likelihood:                -1091.0\n",
       "No. Observations:                 208   AIC:                             2196.\n",
       "Df Residuals:                     201   BIC:                             2219.\n",
       "Df Model:                           6                                         \n",
       "Covariance Type:            nonrobust                                         \n",
       "==============================================================================\n",
       "                 coef    std err          t      P>|t|      [0.025      0.975]\n",
       "------------------------------------------------------------------------------\n",
       "const        -66.6266      6.262    -10.640      0.000     -78.974     -54.280\n",
       "x1             0.0669      0.014      4.901      0.000       0.040       0.094\n",
       "x2             0.0142      0.001      9.936      0.000       0.011       0.017\n",
       "x3             0.0064      0.001     12.495      0.000       0.005       0.007\n",
       "x4             0.5846      0.122      4.807      0.000       0.345       0.824\n",
       "x5            -0.2960      0.670     -0.442      0.659      -1.617       1.025\n",
       "x6             1.2759      0.177      7.202      0.000       0.927       1.625\n",
       "==============================================================================\n",
       "Omnibus:                      108.020   Durbin-Watson:                   2.069\n",
       "Prob(Omnibus):                  0.000   Jarque-Bera (JB):             1039.748\n",
       "Skew:                           1.747   Prob(JB):                    1.67e-226\n",
       "Kurtosis:                      13.381   Cond. No.                     3.32e+04\n",
       "==============================================================================\n",
       "\n",
       "Warnings:\n",
       "[1] Standard Errors assume that the covariance matrix of the errors is correctly specified.\n",
       "[2] The condition number is large, 3.32e+04. This might indicate that there are\n",
       "strong multicollinearity or other numerical problems.\n",
       "\"\"\""
      ]
     },
     "execution_count": 88,
     "metadata": {},
     "output_type": "execute_result"
    }
   ],
   "source": [
    "import statsmodels.formula.api as sm\n",
    "X = np.append(arr=np.ones((len(y),1)).astype(int), values=X, axis=1)\n",
    "\n",
    "X_opt = X[:,[0,1,2,3,4,5,6]]\n",
    "reg_optimal = sm.OLS(endog=y, exog=X_opt).fit()\n",
    "reg_optimal.summary()"
   ]
  },
  {
   "cell_type": "markdown",
   "metadata": {},
   "source": [
    "## SKlearn Model "
   ]
  },
  {
   "cell_type": "code",
   "execution_count": 89,
   "metadata": {},
   "outputs": [
    {
     "name": "stdout",
     "output_type": "stream",
     "text": [
      "[ 2.07261624e+02  2.65655005e+01  3.90622522e+01 -1.43999082e-01\n",
      "  2.69697389e+02  5.97694504e+01  4.23058933e-01  2.08161462e+01\n",
      "  1.46619498e+02 -1.44359214e+01  3.89923739e+02  3.86562175e+01\n",
      "  1.09687986e+02 -6.59488778e+00  3.49475317e+01  4.14786192e+02\n",
      " -1.16808314e+01  4.32031016e+01  5.03451088e+01  4.18137808e+01\n",
      "  3.57146779e+02  1.21998622e+01  7.91868828e+01  7.19093833e+01\n",
      "  4.70438337e+02  4.86938107e+02  2.91183204e+01  6.26436881e+01\n",
      "  1.12205400e+02  1.23722487e+01  2.77742732e+01  6.78731421e+00\n",
      " -2.92784493e-01  7.33516756e+01  1.90561898e+02  2.25406232e+01\n",
      "  8.22434474e+01  2.91789402e+01  4.55569023e+00  3.15658331e+01\n",
      "  1.90313883e+02  6.27550919e+01]\n",
      "\n",
      "r squared of the model =  0.8960023884525095\n"
     ]
    }
   ],
   "source": [
    "from sklearn.linear_model import LinearRegression\n",
    "\n",
    "reg = LinearRegression()\n",
    "reg.fit(X_train,y_train)\n",
    "\n",
    "y_pred = reg.predict(X_test)\n",
    "print(y_pred)\n",
    "\n",
    "from sklearn.metrics import r2_score\n",
    "r21 = r2_score(y_test,y_pred)\n",
    "print('\\nr squared of the model = ',r21)"
   ]
  },
  {
   "cell_type": "markdown",
   "metadata": {},
   "source": [
    "## Sklearn with backward elimination applied "
   ]
  },
  {
   "cell_type": "code",
   "execution_count": 90,
   "metadata": {},
   "outputs": [
    {
     "name": "stdout",
     "output_type": "stream",
     "text": [
      "[  5.60870517 206.99017042  57.0308823   51.61610437 142.62907726\n",
      "  44.62483211  14.9362078   18.90395056  57.82626745  -3.32435881\n",
      "  49.01192231  31.18473798  47.09756087 458.73043182 130.61129192\n",
      " 326.21113223  59.59529933 120.21649469  53.61266769  51.50301625\n",
      " -13.59163351  10.38211804  -8.92479592   3.42505065  51.83999293\n",
      " 183.02394863  24.08623137  31.24934728  66.48959848 143.56984051\n",
      "  15.02149162 263.91476617  39.83459344  35.41236624 187.35609386\n",
      "  25.17480808   1.55447465 234.2086275   -3.44256232   5.56450474\n",
      " 386.61532365  70.19735151]\n",
      "\n",
      "r squared of the model =  0.9229871012308687\n"
     ]
    }
   ],
   "source": [
    "import pandas as pd\n",
    "import numpy as np\n",
    "import matplotlib.pyplot as plt\n",
    "from sklearn.utils import shuffle\n",
    "\n",
    "\n",
    "df = pd.read_csv('data.csv')\n",
    "# print(\"data=\\n\",df)\n",
    "\n",
    "df = shuffle(df).reset_index(drop=True)\n",
    "# print(\"Shuffled data =\\n\",df)\n",
    "df = df.drop(df.columns[[0, 1,7]], axis=1)\n",
    "# print(df)\n",
    "\n",
    "\n",
    "X = df.iloc[:,:-1].values # make X data into matrix/array\n",
    "# print(\"X=\\n\",X)\n",
    "\n",
    "y = df.iloc[:,-1].values # make y data into matrix/array\n",
    "# print(\"y=\\n\",y)\n",
    "\n",
    "\n",
    "\n",
    "from sklearn.cross_validation import train_test_split\n",
    "X_train,X_test,y_train,y_test = train_test_split(X, y, test_size=0.2, random_state=0)\n",
    "# print(\"X Training = \\n\",X_train)\n",
    "# print(\"X Test = \\n\",X_test)\n",
    "# print(\"y Training = \\n\",y_train)\n",
    "# print(\"y Test = \\n\",y_test)\n",
    "\n",
    "from sklearn.linear_model import LinearRegression\n",
    "\n",
    "reg = LinearRegression()\n",
    "reg.fit(X_train,y_train)\n",
    "\n",
    "y_pred = reg.predict(X_test)\n",
    "print(y_pred)\n",
    "\n",
    "from sklearn.metrics import r2_score\n",
    "r22 = r2_score(y_test,y_pred)\n",
    "print('\\nr squared of the model = ',r22)"
   ]
  },
  {
   "cell_type": "code",
   "execution_count": 91,
   "metadata": {},
   "outputs": [
    {
     "name": "stdout",
     "output_type": "stream",
     "text": [
      "Accuracy incresed by 0.026984712778359232 by using backward elimination method\n"
     ]
    }
   ],
   "source": [
    "print('Accuracy incresed by {} by using backward elimination method'.format(r22-r21))"
   ]
  },
  {
   "cell_type": "markdown",
   "metadata": {},
   "source": [
    "# Non-Linear Models"
   ]
  },
  {
   "cell_type": "markdown",
   "metadata": {},
   "source": [
    "## Support Vector Regressor"
   ]
  },
  {
   "cell_type": "markdown",
   "metadata": {},
   "source": [
    "### Feature Scaling for SVR"
   ]
  },
  {
   "cell_type": "code",
   "execution_count": 92,
   "metadata": {},
   "outputs": [
    {
     "name": "stderr",
     "output_type": "stream",
     "text": [
      "/home/shangeth/.local/lib/python3.6/site-packages/sklearn/utils/validation.py:475: DataConversionWarning: Data with input dtype int64 was converted to float64 by StandardScaler.\n",
      "  warnings.warn(msg, DataConversionWarning)\n",
      "/home/shangeth/.local/lib/python3.6/site-packages/sklearn/utils/validation.py:475: DataConversionWarning: Data with input dtype int64 was converted to float64 by StandardScaler.\n",
      "  warnings.warn(msg, DataConversionWarning)\n",
      "/home/shangeth/.local/lib/python3.6/site-packages/sklearn/utils/validation.py:475: DataConversionWarning: Data with input dtype int64 was converted to float64 by StandardScaler.\n",
      "  warnings.warn(msg, DataConversionWarning)\n",
      "/home/shangeth/.local/lib/python3.6/site-packages/sklearn/utils/validation.py:475: DataConversionWarning: Data with input dtype int64 was converted to float64 by StandardScaler.\n",
      "  warnings.warn(msg, DataConversionWarning)\n"
     ]
    }
   ],
   "source": [
    "import pandas as pd\n",
    "import numpy as np\n",
    "import matplotlib.pyplot as plt\n",
    "from sklearn.utils import shuffle\n",
    "\n",
    "\n",
    "df = pd.read_csv('data.csv')\n",
    "# print(\"data=\\n\",df)\n",
    "\n",
    "df = shuffle(df).reset_index(drop=True)\n",
    "# print(\"Shuffled data =\\n\",df)\n",
    "df = df.drop(df.columns[[0, 1]], axis=1)\n",
    "# print(df)\n",
    "\n",
    "\n",
    "X = df.iloc[:,:-1].values # make X data into matrix/array\n",
    "# print(\"X=\\n\",X)\n",
    "\n",
    "y = df.iloc[:,-1].values # make y data into matrix/array\n",
    "# print(\"y=\\n\",y)\n",
    "\n",
    "from sklearn.preprocessing import StandardScaler\n",
    "sc_X = StandardScaler()\n",
    "sc_y = StandardScaler()\n",
    "X = sc_X.fit_transform(X)\n",
    "y = sc_y.fit_transform(y.reshape((y.shape[0], 1)))\n",
    "# print(\"StandarScaled X = \\n\",X)\n",
    "# print(\"StandarScaled y = \\n\",y)\n"
   ]
  },
  {
   "cell_type": "markdown",
   "metadata": {},
   "source": [
    "### SVR Model"
   ]
  },
  {
   "cell_type": "code",
   "execution_count": 93,
   "metadata": {},
   "outputs": [
    {
     "name": "stdout",
     "output_type": "stream",
     "text": [
      "r squared of SVR model =  0.9639161246339916\n"
     ]
    },
    {
     "name": "stderr",
     "output_type": "stream",
     "text": [
      "/home/shangeth/.local/lib/python3.6/site-packages/sklearn/utils/validation.py:578: DataConversionWarning: A column-vector y was passed when a 1d array was expected. Please change the shape of y to (n_samples, ), for example using ravel().\n",
      "  y = column_or_1d(y, warn=True)\n"
     ]
    }
   ],
   "source": [
    "from sklearn.cross_validation import train_test_split\n",
    "X_train,X_test,y_train,y_test = train_test_split(X, y, test_size=0.2, random_state=0)\n",
    "# print(\"X Training = \\n\",X_train)\n",
    "# print(\"X Test = \\n\",X_test)\n",
    "# print(\"y Training = \\n\",y_train)\n",
    "# print(\"y Test = \\n\",y_test)\n",
    "\n",
    "\n",
    "from sklearn.svm import SVR\n",
    "reg = SVR(kernel='rbf')\n",
    "reg.fit(X_train,y_train)\n",
    "\n",
    "y_pred = reg.predict(X_test)\n",
    "\n",
    "from sklearn.metrics import r2_score\n",
    "r2svr = r2_score(y_test,y_pred)\n",
    "print('r squared of SVR model = ',r2svr)"
   ]
  },
  {
   "cell_type": "code",
   "execution_count": 94,
   "metadata": {},
   "outputs": [
    {
     "name": "stdout",
     "output_type": "stream",
     "text": [
      "r squared of Multinomial regression model =  0.8960023884525095\n",
      "r squared of Multinomial regression(with Backward elimination) model =  0.9229871012308687\n",
      "r squared of SVR model =  0.9639161246339916\n"
     ]
    }
   ],
   "source": [
    "print('r squared of Multinomial regression model = ',r21)\n",
    "print('r squared of Multinomial regression(with Backward elimination) model = ',r22)\n",
    "print('r squared of SVR model = ',r2svr)"
   ]
  },
  {
   "cell_type": "code",
   "execution_count": null,
   "metadata": {},
   "outputs": [],
   "source": []
  }
 ],
 "metadata": {
  "kernelspec": {
   "display_name": "Python 3",
   "language": "python",
   "name": "python3"
  },
  "language_info": {
   "codemirror_mode": {
    "name": "ipython",
    "version": 3
   },
   "file_extension": ".py",
   "mimetype": "text/x-python",
   "name": "python",
   "nbconvert_exporter": "python",
   "pygments_lexer": "ipython3",
   "version": "3.6.5"
  }
 },
 "nbformat": 4,
 "nbformat_minor": 2
}
