{
 "cells": [
  {
   "cell_type": "code",
   "execution_count": 158,
   "metadata": {},
   "outputs": [],
   "source": [
    "import pandas as pd\n",
    "import numpy as np\n",
    "import matplotlib.pyplot as plt\n",
    "from sklearn.utils import shuffle\n",
    "\n",
    "\n",
    "df = pd.read_csv('data.csv')\n",
    "# print(\"data=\\n\",df)\n",
    "\n",
    "df = shuffle(df).reset_index(drop=True)\n",
    "# print(\"Shuffled data =\\n\",df)\n",
    "df = df.drop(df.columns[[0, 1]], axis=1)\n",
    "# print(df)\n",
    "\n",
    "\n",
    "X = df.iloc[:,:-1].values # make X data into matrix/array\n",
    "# print(\"X=\\n\",X)\n",
    "\n",
    "y = df.iloc[:,-1].values # make y data into matrix/array\n",
    "# print(\"y=\\n\",y)\n",
    "\n",
    "\n",
    "\n",
    "from sklearn.cross_validation import train_test_split\n",
    "X_train,X_test,y_train,y_test = train_test_split(X, y, test_size=0.2, random_state=0)\n",
    "# print(\"X Training = \\n\",X_train)\n",
    "# print(\"X Test = \\n\",X_test)\n",
    "# print(\"y Training = \\n\",y_train)\n",
    "# print(\"y Test = \\n\",y_test)\n"
   ]
  },
  {
   "cell_type": "markdown",
   "metadata": {},
   "source": [
    "## Backward Elimination"
   ]
  },
  {
   "cell_type": "code",
   "execution_count": 159,
   "metadata": {},
   "outputs": [
    {
     "data": {
      "text/html": [
       "<table class=\"simpletable\">\n",
       "<caption>OLS Regression Results</caption>\n",
       "<tr>\n",
       "  <th>Dep. Variable:</th>            <td>y</td>        <th>  R-squared:         </th> <td>   0.912</td> \n",
       "</tr>\n",
       "<tr>\n",
       "  <th>Model:</th>                   <td>OLS</td>       <th>  Adj. R-squared:    </th> <td>   0.909</td> \n",
       "</tr>\n",
       "<tr>\n",
       "  <th>Method:</th>             <td>Least Squares</td>  <th>  F-statistic:       </th> <td>   346.7</td> \n",
       "</tr>\n",
       "<tr>\n",
       "  <th>Date:</th>             <td>Mon, 06 Aug 2018</td> <th>  Prob (F-statistic):</th> <td>4.14e-103</td>\n",
       "</tr>\n",
       "<tr>\n",
       "  <th>Time:</th>                 <td>17:10:23</td>     <th>  Log-Likelihood:    </th> <td> -1091.0</td> \n",
       "</tr>\n",
       "<tr>\n",
       "  <th>No. Observations:</th>      <td>   208</td>      <th>  AIC:               </th> <td>   2196.</td> \n",
       "</tr>\n",
       "<tr>\n",
       "  <th>Df Residuals:</th>          <td>   201</td>      <th>  BIC:               </th> <td>   2219.</td> \n",
       "</tr>\n",
       "<tr>\n",
       "  <th>Df Model:</th>              <td>     6</td>      <th>                     </th>     <td> </td>    \n",
       "</tr>\n",
       "<tr>\n",
       "  <th>Covariance Type:</th>      <td>nonrobust</td>    <th>                     </th>     <td> </td>    \n",
       "</tr>\n",
       "</table>\n",
       "<table class=\"simpletable\">\n",
       "<tr>\n",
       "    <td></td>       <th>coef</th>     <th>std err</th>      <th>t</th>      <th>P>|t|</th>  <th>[0.025</th>    <th>0.975]</th>  \n",
       "</tr>\n",
       "<tr>\n",
       "  <th>const</th> <td>  -66.6266</td> <td>    6.262</td> <td>  -10.640</td> <td> 0.000</td> <td>  -78.974</td> <td>  -54.280</td>\n",
       "</tr>\n",
       "<tr>\n",
       "  <th>x1</th>    <td>    0.0669</td> <td>    0.014</td> <td>    4.901</td> <td> 0.000</td> <td>    0.040</td> <td>    0.094</td>\n",
       "</tr>\n",
       "<tr>\n",
       "  <th>x2</th>    <td>    0.0142</td> <td>    0.001</td> <td>    9.936</td> <td> 0.000</td> <td>    0.011</td> <td>    0.017</td>\n",
       "</tr>\n",
       "<tr>\n",
       "  <th>x3</th>    <td>    0.0064</td> <td>    0.001</td> <td>   12.495</td> <td> 0.000</td> <td>    0.005</td> <td>    0.007</td>\n",
       "</tr>\n",
       "<tr>\n",
       "  <th>x4</th>    <td>    0.5846</td> <td>    0.122</td> <td>    4.807</td> <td> 0.000</td> <td>    0.345</td> <td>    0.824</td>\n",
       "</tr>\n",
       "<tr>\n",
       "  <th>x5</th>    <td>   -0.2960</td> <td>    0.670</td> <td>   -0.442</td> <td> 0.659</td> <td>   -1.617</td> <td>    1.025</td>\n",
       "</tr>\n",
       "<tr>\n",
       "  <th>x6</th>    <td>    1.2759</td> <td>    0.177</td> <td>    7.202</td> <td> 0.000</td> <td>    0.927</td> <td>    1.625</td>\n",
       "</tr>\n",
       "</table>\n",
       "<table class=\"simpletable\">\n",
       "<tr>\n",
       "  <th>Omnibus:</th>       <td>108.020</td> <th>  Durbin-Watson:     </th> <td>   2.059</td> \n",
       "</tr>\n",
       "<tr>\n",
       "  <th>Prob(Omnibus):</th> <td> 0.000</td>  <th>  Jarque-Bera (JB):  </th> <td>1039.748</td> \n",
       "</tr>\n",
       "<tr>\n",
       "  <th>Skew:</th>          <td> 1.747</td>  <th>  Prob(JB):          </th> <td>1.67e-226</td>\n",
       "</tr>\n",
       "<tr>\n",
       "  <th>Kurtosis:</th>      <td>13.381</td>  <th>  Cond. No.          </th> <td>3.32e+04</td> \n",
       "</tr>\n",
       "</table><br/><br/>Warnings:<br/>[1] Standard Errors assume that the covariance matrix of the errors is correctly specified.<br/>[2] The condition number is large, 3.32e+04. This might indicate that there are<br/>strong multicollinearity or other numerical problems."
      ],
      "text/plain": [
       "<class 'statsmodels.iolib.summary.Summary'>\n",
       "\"\"\"\n",
       "                            OLS Regression Results                            \n",
       "==============================================================================\n",
       "Dep. Variable:                      y   R-squared:                       0.912\n",
       "Model:                            OLS   Adj. R-squared:                  0.909\n",
       "Method:                 Least Squares   F-statistic:                     346.7\n",
       "Date:                Mon, 06 Aug 2018   Prob (F-statistic):          4.14e-103\n",
       "Time:                        17:10:23   Log-Likelihood:                -1091.0\n",
       "No. Observations:                 208   AIC:                             2196.\n",
       "Df Residuals:                     201   BIC:                             2219.\n",
       "Df Model:                           6                                         \n",
       "Covariance Type:            nonrobust                                         \n",
       "==============================================================================\n",
       "                 coef    std err          t      P>|t|      [0.025      0.975]\n",
       "------------------------------------------------------------------------------\n",
       "const        -66.6266      6.262    -10.640      0.000     -78.974     -54.280\n",
       "x1             0.0669      0.014      4.901      0.000       0.040       0.094\n",
       "x2             0.0142      0.001      9.936      0.000       0.011       0.017\n",
       "x3             0.0064      0.001     12.495      0.000       0.005       0.007\n",
       "x4             0.5846      0.122      4.807      0.000       0.345       0.824\n",
       "x5            -0.2960      0.670     -0.442      0.659      -1.617       1.025\n",
       "x6             1.2759      0.177      7.202      0.000       0.927       1.625\n",
       "==============================================================================\n",
       "Omnibus:                      108.020   Durbin-Watson:                   2.059\n",
       "Prob(Omnibus):                  0.000   Jarque-Bera (JB):             1039.748\n",
       "Skew:                           1.747   Prob(JB):                    1.67e-226\n",
       "Kurtosis:                      13.381   Cond. No.                     3.32e+04\n",
       "==============================================================================\n",
       "\n",
       "Warnings:\n",
       "[1] Standard Errors assume that the covariance matrix of the errors is correctly specified.\n",
       "[2] The condition number is large, 3.32e+04. This might indicate that there are\n",
       "strong multicollinearity or other numerical problems.\n",
       "\"\"\""
      ]
     },
     "execution_count": 159,
     "metadata": {},
     "output_type": "execute_result"
    }
   ],
   "source": [
    "import statsmodels.formula.api as sm\n",
    "X = np.append(arr=np.ones((len(y),1)).astype(int), values=X, axis=1)\n",
    "\n",
    "X_opt = X[:,[0,1,2,3,4,5,6]]\n",
    "reg_optimal = sm.OLS(endog=y, exog=X_opt).fit()\n",
    "reg_optimal.summary()"
   ]
  },
  {
   "cell_type": "markdown",
   "metadata": {},
   "source": [
    "## SKlearn Model "
   ]
  },
  {
   "cell_type": "code",
   "execution_count": 160,
   "metadata": {},
   "outputs": [
    {
     "name": "stdout",
     "output_type": "stream",
     "text": [
      "[ 19.05104813  81.25528188  32.56882001  35.50294226 320.21190122\n",
      "  10.09557174 122.21812246 293.51706909  52.8279402   52.70382853\n",
      " 198.84068557  24.45850056  -2.89429996  60.95728782  49.44104007\n",
      "  39.64456362  84.5313023  179.91007016 133.02264952  50.30955009\n",
      "  22.48586194  41.22115165  48.2451806   96.99470746   0.6871857\n",
      "  30.51724354 146.16481961 -14.4402581   38.83349455 221.35692151\n",
      "   3.58341626 461.13065552 384.5864202   58.54084481  45.92138968\n",
      " 210.44365801  19.71680951  38.39779892  87.78101222 103.51596407\n",
      "  33.81991041  23.21568328]\n",
      "\n",
      "r squared of the model =  0.9238415141794709\n"
     ]
    }
   ],
   "source": [
    "from sklearn.linear_model import LinearRegression\n",
    "\n",
    "reg = LinearRegression()\n",
    "reg.fit(X_train,y_train)\n",
    "\n",
    "y_pred = reg.predict(X_test)\n",
    "print(y_pred)\n",
    "\n",
    "from sklearn.metrics import r2_score\n",
    "r21 = r2_score(y_test,y_pred)\n",
    "print('\\nr squared of the model = ',r21)"
   ]
  },
  {
   "cell_type": "markdown",
   "metadata": {},
   "source": [
    "## Sklearn with backward elimination applied "
   ]
  },
  {
   "cell_type": "code",
   "execution_count": 161,
   "metadata": {},
   "outputs": [
    {
     "name": "stdout",
     "output_type": "stream",
     "text": [
      "[ 2.77540801e+02  1.65810483e+01  5.12097275e+01  5.42240985e+01\n",
      "  3.23277861e+02  3.97226211e+01  2.82262317e+00  3.58081692e+01\n",
      "  5.87120718e+01  1.85799990e+01  2.10956537e+02  5.59694867e+01\n",
      "  8.62318106e+01  5.42382899e+01  3.00100972e+01  3.68817347e+00\n",
      "  6.53484479e+01  1.47085488e+02  2.03593752e+02  2.70144792e+01\n",
      "  6.17643648e+01  4.93743825e+01  4.90824589e+01  9.63644359e+00\n",
      "  1.73233752e+02  1.10290764e+02  2.36791528e+02  6.93109891e+01\n",
      "  2.73823240e+01  4.35989500e+01  3.79017616e+02  2.40581912e+01\n",
      "  5.62341003e+01  1.44714978e+01  1.01663436e+03 -6.06270641e+00\n",
      "  1.77993967e+01  1.20446628e+02 -2.76419635e+00  1.81214124e+00\n",
      " -5.61885934e-01  1.17155731e+01]\n",
      "\n",
      "r squared of the model =  0.9410067603120912\n"
     ]
    }
   ],
   "source": [
    "import pandas as pd\n",
    "import numpy as np\n",
    "import matplotlib.pyplot as plt\n",
    "from sklearn.utils import shuffle\n",
    "\n",
    "\n",
    "df = pd.read_csv('data.csv')\n",
    "# print(\"data=\\n\",df)\n",
    "\n",
    "df = shuffle(df).reset_index(drop=True)\n",
    "# print(\"Shuffled data =\\n\",df)\n",
    "df = df.drop(df.columns[[0, 1,7]], axis=1)\n",
    "# print(df)\n",
    "\n",
    "\n",
    "X = df.iloc[:,:-1].values # make X data into matrix/array\n",
    "# print(\"X=\\n\",X)\n",
    "\n",
    "y = df.iloc[:,-1].values # make y data into matrix/array\n",
    "# print(\"y=\\n\",y)\n",
    "\n",
    "\n",
    "\n",
    "from sklearn.cross_validation import train_test_split\n",
    "X_train,X_test,y_train,y_test = train_test_split(X, y, test_size=0.2, random_state=0)\n",
    "# print(\"X Training = \\n\",X_train)\n",
    "# print(\"X Test = \\n\",X_test)\n",
    "# print(\"y Training = \\n\",y_train)\n",
    "# print(\"y Test = \\n\",y_test)\n",
    "\n",
    "from sklearn.linear_model import LinearRegression\n",
    "\n",
    "reg = LinearRegression()\n",
    "reg.fit(X_train,y_train)\n",
    "\n",
    "y_pred = reg.predict(X_test)\n",
    "print(y_pred)\n",
    "\n",
    "from sklearn.metrics import r2_score\n",
    "r22 = r2_score(y_test,y_pred)\n",
    "print('\\nr squared of the model = ',r22)"
   ]
  },
  {
   "cell_type": "code",
   "execution_count": 162,
   "metadata": {},
   "outputs": [
    {
     "name": "stdout",
     "output_type": "stream",
     "text": [
      "Accuracy incresed by 0.01716524613262027 by using backward elimination method\n"
     ]
    }
   ],
   "source": [
    "print('Accuracy incresed by {} by using backward elimination method'.format(r22-r21))"
   ]
  },
  {
   "cell_type": "markdown",
   "metadata": {},
   "source": [
    "# Non-Linear Models"
   ]
  },
  {
   "cell_type": "markdown",
   "metadata": {},
   "source": [
    "## Support Vector Regressor"
   ]
  },
  {
   "cell_type": "markdown",
   "metadata": {},
   "source": [
    "### Feature Scaling for SVR"
   ]
  },
  {
   "cell_type": "code",
   "execution_count": 163,
   "metadata": {},
   "outputs": [
    {
     "name": "stderr",
     "output_type": "stream",
     "text": [
      "/home/shangeth/.local/lib/python3.6/site-packages/sklearn/utils/validation.py:475: DataConversionWarning: Data with input dtype int64 was converted to float64 by StandardScaler.\n",
      "  warnings.warn(msg, DataConversionWarning)\n",
      "/home/shangeth/.local/lib/python3.6/site-packages/sklearn/utils/validation.py:475: DataConversionWarning: Data with input dtype int64 was converted to float64 by StandardScaler.\n",
      "  warnings.warn(msg, DataConversionWarning)\n",
      "/home/shangeth/.local/lib/python3.6/site-packages/sklearn/utils/validation.py:475: DataConversionWarning: Data with input dtype int64 was converted to float64 by StandardScaler.\n",
      "  warnings.warn(msg, DataConversionWarning)\n",
      "/home/shangeth/.local/lib/python3.6/site-packages/sklearn/utils/validation.py:475: DataConversionWarning: Data with input dtype int64 was converted to float64 by StandardScaler.\n",
      "  warnings.warn(msg, DataConversionWarning)\n"
     ]
    }
   ],
   "source": [
    "import pandas as pd\n",
    "import numpy as np\n",
    "import matplotlib.pyplot as plt\n",
    "from sklearn.utils import shuffle\n",
    "\n",
    "\n",
    "df = pd.read_csv('data.csv')\n",
    "# print(\"data=\\n\",df)\n",
    "\n",
    "df = shuffle(df).reset_index(drop=True)\n",
    "# print(\"Shuffled data =\\n\",df)\n",
    "df = df.drop(df.columns[[0, 1]], axis=1)\n",
    "# print(df)\n",
    "\n",
    "\n",
    "X = df.iloc[:,:-1].values # make X data into matrix/array\n",
    "# print(\"X=\\n\",X)\n",
    "\n",
    "y = df.iloc[:,-1].values # make y data into matrix/array\n",
    "# print(\"y=\\n\",y)\n",
    "\n",
    "from sklearn.preprocessing import StandardScaler\n",
    "sc_X = StandardScaler()\n",
    "sc_y = StandardScaler()\n",
    "X = sc_X.fit_transform(X)\n",
    "y = sc_y.fit_transform(y.reshape((y.shape[0], 1)))\n",
    "# print(\"StandarScaled X = \\n\",X)\n",
    "# print(\"StandarScaled y = \\n\",y)\n"
   ]
  },
  {
   "cell_type": "markdown",
   "metadata": {},
   "source": [
    "### SVR Model"
   ]
  },
  {
   "cell_type": "code",
   "execution_count": 164,
   "metadata": {},
   "outputs": [
    {
     "name": "stdout",
     "output_type": "stream",
     "text": [
      "r squared of SVR model =  0.9422904235496651\n"
     ]
    },
    {
     "name": "stderr",
     "output_type": "stream",
     "text": [
      "/home/shangeth/.local/lib/python3.6/site-packages/sklearn/utils/validation.py:578: DataConversionWarning: A column-vector y was passed when a 1d array was expected. Please change the shape of y to (n_samples, ), for example using ravel().\n",
      "  y = column_or_1d(y, warn=True)\n"
     ]
    }
   ],
   "source": [
    "from sklearn.cross_validation import train_test_split\n",
    "X_train,X_test,y_train,y_test = train_test_split(X, y, test_size=0.2, random_state=0)\n",
    "# print(\"X Training = \\n\",X_train)\n",
    "# print(\"X Test = \\n\",X_test)\n",
    "# print(\"y Training = \\n\",y_train)\n",
    "# print(\"y Test = \\n\",y_test)\n",
    "\n",
    "\n",
    "from sklearn.svm import SVR\n",
    "reg_svr = SVR(kernel='rbf')\n",
    "reg_svr.fit(X_train,y_train)\n",
    "\n",
    "y_pred_svr = reg_svr.predict(X_test)\n",
    "\n",
    "from sklearn.metrics import r2_score\n",
    "r2svr = r2_score(y_test,y_pred_svr)\n",
    "print('r squared of SVR model = ',r2svr)"
   ]
  },
  {
   "cell_type": "markdown",
   "metadata": {},
   "source": [
    "### Decision Tree Model"
   ]
  },
  {
   "cell_type": "code",
   "execution_count": 165,
   "metadata": {},
   "outputs": [
    {
     "name": "stderr",
     "output_type": "stream",
     "text": [
      "/home/shangeth/.local/lib/python3.6/site-packages/sklearn/utils/validation.py:475: DataConversionWarning: Data with input dtype int64 was converted to float64 by StandardScaler.\n",
      "  warnings.warn(msg, DataConversionWarning)\n",
      "/home/shangeth/.local/lib/python3.6/site-packages/sklearn/utils/validation.py:475: DataConversionWarning: Data with input dtype int64 was converted to float64 by StandardScaler.\n",
      "  warnings.warn(msg, DataConversionWarning)\n",
      "/home/shangeth/.local/lib/python3.6/site-packages/sklearn/utils/validation.py:475: DataConversionWarning: Data with input dtype int64 was converted to float64 by StandardScaler.\n",
      "  warnings.warn(msg, DataConversionWarning)\n",
      "/home/shangeth/.local/lib/python3.6/site-packages/sklearn/utils/validation.py:475: DataConversionWarning: Data with input dtype int64 was converted to float64 by StandardScaler.\n",
      "  warnings.warn(msg, DataConversionWarning)\n"
     ]
    }
   ],
   "source": [
    "import pandas as pd\n",
    "import numpy as np\n",
    "import matplotlib.pyplot as plt\n",
    "from sklearn.utils import shuffle\n",
    "\n",
    "\n",
    "df = pd.read_csv('data.csv')\n",
    "# print(\"data=\\n\",df)\n",
    "\n",
    "df = shuffle(df).reset_index(drop=True)\n",
    "# print(\"Shuffled data =\\n\",df)\n",
    "df = df.drop(df.columns[[0, 1]], axis=1)\n",
    "# print(df)\n",
    "\n",
    "\n",
    "X = df.iloc[:,:-1].values # make X data into matrix/array\n",
    "# print(\"X=\\n\",X)\n",
    "\n",
    "y = df.iloc[:,-1].values # make y data into matrix/array\n",
    "# print(\"y=\\n\",y)\n",
    "\n",
    "\n",
    "from sklearn.preprocessing import StandardScaler\n",
    "sc_X = StandardScaler()\n",
    "sc_y = StandardScaler()\n",
    "X = sc_X.fit_transform(X)\n",
    "y = sc_y.fit_transform(y.reshape((y.shape[0], 1)))\n",
    "\n",
    "\n",
    "\n",
    "from sklearn.tree import DecisionTreeRegressor\n",
    "reg_dt = DecisionTreeRegressor(random_state=0)\n",
    "reg_dt.fit(X_train,y_train)\n",
    "\n",
    "y_pred_dt = reg_dt.predict(X_test)\n",
    "\n",
    "from sklearn.metrics import r2_score\n",
    "r2dt = r2_score(y_test,y_pred_dt)\n",
    "\n"
   ]
  },
  {
   "cell_type": "markdown",
   "metadata": {},
   "source": [
    "### Random Forest Model"
   ]
  },
  {
   "cell_type": "code",
   "execution_count": 166,
   "metadata": {},
   "outputs": [
    {
     "name": "stderr",
     "output_type": "stream",
     "text": [
      "/home/shangeth/.local/lib/python3.6/site-packages/sklearn/utils/validation.py:475: DataConversionWarning: Data with input dtype int64 was converted to float64 by StandardScaler.\n",
      "  warnings.warn(msg, DataConversionWarning)\n",
      "/home/shangeth/.local/lib/python3.6/site-packages/sklearn/utils/validation.py:475: DataConversionWarning: Data with input dtype int64 was converted to float64 by StandardScaler.\n",
      "  warnings.warn(msg, DataConversionWarning)\n",
      "/home/shangeth/.local/lib/python3.6/site-packages/sklearn/utils/validation.py:475: DataConversionWarning: Data with input dtype int64 was converted to float64 by StandardScaler.\n",
      "  warnings.warn(msg, DataConversionWarning)\n",
      "/home/shangeth/.local/lib/python3.6/site-packages/sklearn/utils/validation.py:475: DataConversionWarning: Data with input dtype int64 was converted to float64 by StandardScaler.\n",
      "  warnings.warn(msg, DataConversionWarning)\n",
      "/home/shangeth/anaconda3/lib/python3.6/site-packages/ipykernel_launcher.py:32: DataConversionWarning: A column-vector y was passed when a 1d array was expected. Please change the shape of y to (n_samples,), for example using ravel().\n"
     ]
    }
   ],
   "source": [
    "import pandas as pd\n",
    "import numpy as np\n",
    "import matplotlib.pyplot as plt\n",
    "from sklearn.utils import shuffle\n",
    "\n",
    "\n",
    "df = pd.read_csv('data.csv')\n",
    "# print(\"data=\\n\",df)\n",
    "\n",
    "df = shuffle(df).reset_index(drop=True)\n",
    "# print(\"Shuffled data =\\n\",df)\n",
    "df = df.drop(df.columns[[0, 1]], axis=1)\n",
    "# print(df)\n",
    "\n",
    "\n",
    "X = df.iloc[:,:-1].values # make X data into matrix/array\n",
    "# print(\"X=\\n\",X)\n",
    "\n",
    "y = df.iloc[:,-1].values # make y data into matrix/array\n",
    "# print(\"y=\\n\",y)\n",
    "\n",
    "\n",
    "from sklearn.preprocessing import StandardScaler\n",
    "sc_X = StandardScaler()\n",
    "sc_y = StandardScaler()\n",
    "X = sc_X.fit_transform(X)\n",
    "y = sc_y.fit_transform(y.reshape((y.shape[0], 1)))\n",
    "\n",
    "\n",
    "from sklearn.ensemble import RandomForestRegressor\n",
    "reg_rf = RandomForestRegressor(n_estimators=10000, random_state=0)\n",
    "reg_rf.fit(X,y)\n",
    "\n",
    "y_pred_rf = reg_rf.predict(X_test)\n",
    "\n",
    "from sklearn.metrics import r2_score\n",
    "r2rf = r2_score(y_test,y_pred_rf)\n"
   ]
  },
  {
   "cell_type": "code",
   "execution_count": 167,
   "metadata": {},
   "outputs": [
    {
     "name": "stdout",
     "output_type": "stream",
     "text": [
      "r squared of Multinomial regression model =  0.9238415141794709\n",
      "r squared of Multinomial regression(with Backward elimination) model =  0.9410067603120912\n",
      "r squared of SVR model =  0.9422904235496651\n",
      "r squared of Decision tree model =  0.8614200378716974\n",
      "r squared of Random Forest model =  0.9899075259337683\n"
     ]
    }
   ],
   "source": [
    "print('r squared of Multinomial regression model = ',r21)\n",
    "print('r squared of Multinomial regression(with Backward elimination) model = ',r22)\n",
    "print('r squared of SVR model = ',r2svr)\n",
    "print('r squared of Decision tree model = ',r2dt)\n",
    "print('r squared of Random Forest model = ',r2rf)"
   ]
  },
  {
   "cell_type": "code",
   "execution_count": null,
   "metadata": {},
   "outputs": [],
   "source": []
  }
 ],
 "metadata": {
  "kernelspec": {
   "display_name": "Python 3",
   "language": "python",
   "name": "python3"
  },
  "language_info": {
   "codemirror_mode": {
    "name": "ipython",
    "version": 3
   },
   "file_extension": ".py",
   "mimetype": "text/x-python",
   "name": "python",
   "nbconvert_exporter": "python",
   "pygments_lexer": "ipython3",
   "version": "3.6.5"
  }
 },
 "nbformat": 4,
 "nbformat_minor": 2
}
